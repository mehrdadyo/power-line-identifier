{
 "cells": [
  {
   "cell_type": "markdown",
   "metadata": {},
   "source": [
    "### This script just adds the image flip function to the test and development sets."
   ]
  },
  {
   "cell_type": "markdown",
   "metadata": {},
   "source": [
    "Note that it won't run without the other code in `train_network.ipynb`. So I haven't tested it..."
   ]
  },
  {
   "cell_type": "code",
   "execution_count": 1,
   "metadata": {},
   "outputs": [],
   "source": [
    "from torchvision.transforms.functional import hflip"
   ]
  },
  {
   "cell_type": "code",
   "execution_count": null,
   "metadata": {},
   "outputs": [],
   "source": [
    "torchvision.transforms.functional.hflip(img)"
   ]
  },
  {
   "cell_type": "markdown",
   "metadata": {},
   "source": [
    "## It's just the import statement and these lines in both the test and dev loops:\n",
    "\n",
    "        # augment data with hflip\n",
    "        imgs = torch.cat((imgs, imgs.hflip), 0)\n",
    "        labels = torch.cat((labels, labels), 0)"
   ]
  },
  {
   "cell_type": "code",
   "execution_count": null,
   "metadata": {},
   "outputs": [],
   "source": [
    "for epoch in range(max_epochs):\n",
    "    tic = time.time()\n",
    "    \n",
    "    # train:\n",
    "    model.train()\n",
    "    running_loss = 0.\n",
    "    for imgs, labels, _, _, _ in train_generator:\n",
    "        imgs, labels = imgs.to(device), labels.to(device)\n",
    "        \n",
    "        # augment data with hflip\n",
    "        imgs = torch.cat((imgs, imgs.hflip), 0)\n",
    "        labels = torch.cat((labels, labels), 0)\n",
    "        \n",
    "        scores = model(imgs)\n",
    "        loss = loss_fcn(scores,labels)\n",
    "        \n",
    "        running_loss += loss*labels.shape[0]\n",
    "        \n",
    "        loss.backward()\n",
    "        optimizer.step()\n",
    "        optimizer.zero_grad()\n",
    "    \n",
    "    running_loss /= N_train\n",
    "    print('E-%d Mean Training Loss = %.2f'%(epoch+1,running_loss))\n",
    "    \n",
    "    # development:\n",
    "    model.eval()\n",
    "    correct_predictions = 0\n",
    "    for imgs, labels, _, _, _ in dev_generator:\n",
    "        imgs, labels = imgs.to(device), labels.to(device)\n",
    "        \n",
    "        # augment data with hflip\n",
    "        imgs = torch.cat((imgs, imgs.hflip), 0)\n",
    "        labels = torch.cat((labels, labels), 0)\n",
    "        \n",
    "        scores = model(imgs)\n",
    "        pred_class = scores.argmax(1)\n",
    "        correct_predictions += (pred_class == labels).sum().item()\n",
    "        \n",
    "    dev_accuracy = 100 * correct_predictions/N_dev\n",
    "    \n",
    "    toc = time.time()\n",
    "    print('E-%d Development Set Accuracy = %.2f%% in %.1f seconds'%(epoch+1,dev_accuracy,toc-tic))\n",
    "    \n",
    "    if dev_accuracy > best_accuracy:\n",
    "        best_model = model\n",
    "        best_accuracy = dev_accuracy"
   ]
  }
 ],
 "metadata": {
  "kernelspec": {
   "display_name": "Python 3",
   "language": "python",
   "name": "python3"
  },
  "language_info": {
   "codemirror_mode": {
    "name": "ipython",
    "version": 3
   },
   "file_extension": ".py",
   "mimetype": "text/x-python",
   "name": "python",
   "nbconvert_exporter": "python",
   "pygments_lexer": "ipython3",
   "version": "3.7.3"
  }
 },
 "nbformat": 4,
 "nbformat_minor": 2
}
