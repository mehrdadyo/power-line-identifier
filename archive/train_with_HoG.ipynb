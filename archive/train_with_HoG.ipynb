{
 "cells": [
  {
   "cell_type": "code",
   "execution_count": 1,
   "metadata": {},
   "outputs": [],
   "source": [
    "import torch\n",
    "import torch.nn as nn\n",
    "import torch.optim as optim\n",
    "from torch.utils.data import DataLoader\n",
    "\n",
    "import torchvision.models as models\n",
    "\n",
    "import numpy as np\n",
    "import random\n",
    "import time\n",
    "\n",
    "from useful_things.dataloader import *\n",
    "from useful_things.networks import *\n",
    "from useful_things.helper_functions import *"
   ]
  },
  {
   "cell_type": "markdown",
   "metadata": {},
   "source": [
    "Next we load pretrained models, see https://pytorch.org/docs/stable/torchvision/models.html for a list of pretrained models to choose from. For different networks, print the model first to find the first number in the nn.Linear(X,3, bias=True)"
   ]
  },
  {
   "cell_type": "code",
   "execution_count": 34,
   "metadata": {},
   "outputs": [
    {
     "name": "stdout",
     "output_type": "stream",
     "text": [
      "torch.Size([64, 4, 7, 7])\n"
     ]
    }
   ],
   "source": [
    "model = models.resnet18(pretrained=True)\n",
    "# print(model)\n",
    "\n",
    "# freeze the existing layers\n",
    "count = 0\n",
    "for param in model.parameters():\n",
    "    param.requires_grad = False\n",
    "    count += 1\n",
    "    #if count < 2:\n",
    "        # print(param)\n",
    "\n",
    "# add new fully connected layers at the end of the network (defaults unfrozed):\n",
    "model.fc = nn.Linear(512,3, bias=True)\n",
    "\n",
    "old_conv_weights = model.state_dict()['conv1.weight']\n",
    "d, _, w, h = old_conv_weights.shape\n",
    "old_var = old_conv_weights.var().item()\n",
    "\n",
    "added_conv_weights = np.random.randn(d,1,h,w)\n",
    "added_conv_weights *= np.sqrt(old_var)\n",
    "added_conv_weights = torch.from_numpy(added_conv_weights).float()\n",
    "\n",
    "\n",
    "new_conv_weights = torch.cat((old_conv_weights,added_conv_weights),1)\n",
    "\n",
    "model.conv1 = nn.Conv2d(4, 64, kernel_size=(7, 7), stride=(2, 2), padding=(3, 3), bias=False)\n",
    "model.state_dict()['conv1.weight'] = new_conv_weights\n",
    "\n",
    "print(model)\n"
   ]
  },
  {
   "cell_type": "code",
   "execution_count": null,
   "metadata": {},
   "outputs": [],
   "source": []
  }
 ],
 "metadata": {
  "kernelspec": {
   "display_name": "Python 3",
   "language": "python",
   "name": "python3"
  },
  "language_info": {
   "codemirror_mode": {
    "name": "ipython",
    "version": 3
   },
   "file_extension": ".py",
   "mimetype": "text/x-python",
   "name": "python",
   "nbconvert_exporter": "python",
   "pygments_lexer": "ipython3",
   "version": "3.7.3"
  }
 },
 "nbformat": 4,
 "nbformat_minor": 2
}
