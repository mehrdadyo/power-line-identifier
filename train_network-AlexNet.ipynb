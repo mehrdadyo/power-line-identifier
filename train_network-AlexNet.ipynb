{
 "cells": [
  {
   "cell_type": "markdown",
   "metadata": {},
   "source": [
    "### Initialization"
   ]
  },
  {
   "cell_type": "code",
   "execution_count": 1,
   "metadata": {},
   "outputs": [],
   "source": [
    "import torch\n",
    "import torch.nn as nn\n",
    "import torch.optim as optim\n",
    "from torch.utils.data import DataLoader\n",
    "\n",
    "import torchvision.models as models\n",
    "\n",
    "import numpy as np\n",
    "import random, time, os, math\n",
    "\n",
    "from useful_things.dataloader import *\n",
    "from useful_things.networks import *\n",
    "from useful_things.helper_functions import *\n",
    "from useful_things.vis_utils import *\n",
    "\n",
    "from transforms.hog import *"
   ]
  },
  {
   "cell_type": "markdown",
   "metadata": {},
   "source": [
    "If you need to resize images..."
   ]
  },
  {
   "cell_type": "code",
   "execution_count": 7,
   "metadata": {},
   "outputs": [],
   "source": [
    "# Resizes all images in folder to 3x224x224 to use in pytorch pretrained models\n",
    "resizeImages('images/sorted_data/noUtility/')\n",
    "resizeImages('images/sorted_data/noVeg/')\n",
    "resizeImages('images/sorted_data/veg/')"
   ]
  },
  {
   "cell_type": "markdown",
   "metadata": {},
   "source": [
    "### Define model\n",
    "Next we load pretrained models, see https://pytorch.org/docs/stable/torchvision/models.html for a list of pretrained models to choose from. For different networks, print the model first to find out which layer number is the last one and how many nodes it has"
   ]
  },
  {
   "cell_type": "code",
   "execution_count": 2,
   "metadata": {},
   "outputs": [
    {
     "name": "stdout",
     "output_type": "stream",
     "text": [
      "AlexNet(\n",
      "  (features): Sequential(\n",
      "    (0): Conv2d(5, 64, kernel_size=(11, 11), stride=(4, 4), padding=(2, 2))\n",
      "    (1): ReLU(inplace)\n",
      "    (2): MaxPool2d(kernel_size=3, stride=2, padding=0, dilation=1, ceil_mode=False)\n",
      "    (3): Conv2d(64, 192, kernel_size=(5, 5), stride=(1, 1), padding=(2, 2))\n",
      "    (4): ReLU(inplace)\n",
      "    (5): MaxPool2d(kernel_size=3, stride=2, padding=0, dilation=1, ceil_mode=False)\n",
      "    (6): Conv2d(192, 384, kernel_size=(3, 3), stride=(1, 1), padding=(1, 1))\n",
      "    (7): ReLU(inplace)\n",
      "    (8): Conv2d(384, 256, kernel_size=(3, 3), stride=(1, 1), padding=(1, 1))\n",
      "    (9): ReLU(inplace)\n",
      "    (10): Conv2d(256, 256, kernel_size=(3, 3), stride=(1, 1), padding=(1, 1))\n",
      "    (11): ReLU(inplace)\n",
      "    (12): MaxPool2d(kernel_size=3, stride=2, padding=0, dilation=1, ceil_mode=False)\n",
      "  )\n",
      "  (avgpool): AdaptiveAvgPool2d(output_size=(6, 6))\n",
      "  (classifier): Sequential(\n",
      "    (0): Dropout(p=0.5)\n",
      "    (1): Linear(in_features=9216, out_features=4096, bias=True)\n",
      "    (2): ReLU(inplace)\n",
      "    (3): Dropout(p=0.5)\n",
      "    (4): Linear(in_features=4096, out_features=4096, bias=True)\n",
      "    (5): ReLU(inplace)\n",
      "    (6): Linear(in_features=4096, out_features=3, bias=True)\n",
      "  )\n",
      ")\n"
     ]
    }
   ],
   "source": [
    "# CHOOSE MODEL:\n",
    "model_name = 'alexnet'\n",
    "use_Image = True\n",
    "use_HoG = True\n",
    "use_HOUGH = True\n",
    "\n",
    "# DON'T CHANGE:\n",
    "def freeze_gradients(model):\n",
    "    'freezes gradients of all parameters in model'\n",
    "    for param in model.parameters():\n",
    "#         if param != ...:\n",
    "#                 continue\n",
    "        param.requires_grad = False\n",
    "    return model\n",
    "\n",
    "if model_name == 'resnet18':\n",
    "    model = models.resnet18(pretrained=True)\n",
    "    model = freeze_gradients(model)\n",
    "    model.fc = nn.Linear(512,3, bias=True)\n",
    "    \n",
    "elif model_name == 'vgg16_bn':\n",
    "    model = models.vgg16_bn(pretrained=True)\n",
    "    model = freeze_gradients(model)\n",
    "    model.classifier[6] = nn.Linear(4096,3, bias=True)\n",
    "    \n",
    "elif model_name == 'alexnet':\n",
    "    model = models.alexnet(pretrained=True)\n",
    "    model = freeze_gradients(model)\n",
    "    model.classifier[4] = nn.Linear(4096,4096, bias=True)\n",
    "    model.classifier[6] = nn.Linear(4096,3, bias=True)\n",
    "\n",
    "if use_HoG:\n",
    "    model = addWeightsToLayer1(model, model_name)\n",
    "    \n",
    "if use_HOUGH:\n",
    "    model = addWeightsToLayer1(model, model_name)\n",
    "    \n",
    "if not use_Image:\n",
    "    model = removeImageWeights(model, model_name)\n",
    "\n",
    "print(model)"
   ]
  },
  {
   "cell_type": "markdown",
   "metadata": {},
   "source": [
    "Currently only training last layers. Can train more."
   ]
  },
  {
   "cell_type": "markdown",
   "metadata": {},
   "source": [
    "### Set up data\n",
    "Note only the first and last layers of the model now will be trained - all other layers are frozen. This next cell creates the data loaders for the train, dev, and test sets. Only thing to tweak here is batch size. Other than that, leave alone. Since we don't want to do the HoG/HOUGH transform at every instance during training, we will save the training set transforms to be loading by our dataloader."
   ]
  },
  {
   "cell_type": "code",
   "execution_count": 3,
   "metadata": {},
   "outputs": [
    {
     "name": "stdout",
     "output_type": "stream",
     "text": [
      "Making train set with 1055 images\n",
      "Making dev set with 134 images\n",
      "Making test set with 131 images\n"
     ]
    }
   ],
   "source": [
    "N = {}\n",
    "N['noUtil'] = len(os.listdir('images/sorted_data/noUtility/'))\n",
    "N['noVeg'] = len(os.listdir('images/sorted_data/noVeg/'))\n",
    "N['Veg'] = len(os.listdir('images/sorted_data/veg/'))\n",
    "\n",
    "random.seed(2)\n",
    "partition = partitionDataset(N, ratio=(80, 10, 10))\n",
    "\n",
    "performTransforms = False  # only run once -- takes ~ 5 min\n",
    "print('Making train set with %d images'%len(partition['train']))\n",
    "train_set = UtilityDataset(partition['train'], use_Image, use_HoG, use_HOUGH, 'train', performTransforms=performTransforms)\n",
    "\n",
    "print('Making dev set with %d images'%len(partition['dev']))\n",
    "dev_set = UtilityDataset(partition['dev'], use_Image, use_HoG, use_HOUGH, 'dev', performTransforms=performTransforms)\n",
    "\n",
    "print('Making test set with %d images'%len(partition['test']))\n",
    "test_set = UtilityDataset(partition['test'], use_Image, use_HoG, use_HOUGH, 'test', performTransforms=performTransforms)\n",
    "\n",
    "N_train = len(train_set)\n",
    "N_dev = len(dev_set)\n",
    "N_test = len(test_set)\n",
    "\n",
    "params = {'batch_size': 32,\n",
    "         'shuffle': True,\n",
    "         'num_workers': 8}\n",
    "\n",
    "train_generator = DataLoader(train_set, **params)\n",
    "dev_generator = DataLoader(dev_set, **params)\n",
    "test_generator = DataLoader(test_set, **params)"
   ]
  },
  {
   "cell_type": "markdown",
   "metadata": {},
   "source": [
    "## Train\n",
    "Some fixed model parameters (CUDA takes like ~30 seconds on first run)..."
   ]
  },
  {
   "cell_type": "code",
   "execution_count": 4,
   "metadata": {},
   "outputs": [
    {
     "name": "stdout",
     "output_type": "stream",
     "text": [
      "cuda succesful\n"
     ]
    }
   ],
   "source": [
    "# define loss function - the weights parameters offsets imbalance in number if images of each class\n",
    "class_weights = [1.0, N['noUtil']/N['noVeg'], N['noUtil']/N['Veg']]     \n",
    "class_weights = torch.FloatTensor(class_weights).cuda()\n",
    "loss_fcn = nn.CrossEntropyLoss(weight=class_weights)\n",
    "\n",
    "use_cuda = torch.cuda.is_available()\n",
    "device = torch.device(\"cuda:0\" if use_cuda else \"cpu\")\n",
    "model.cuda()\n",
    "print('cuda succesful' if use_cuda else 'cpu')"
   ]
  },
  {
   "cell_type": "markdown",
   "metadata": {},
   "source": [
    "Tunable parameters..."
   ]
  },
  {
   "cell_type": "code",
   "execution_count": 5,
   "metadata": {},
   "outputs": [],
   "source": [
    "alpha = 3e-4           # this is the initial learning rate\n",
    "weight_decay = 1e-8    # this is the regularization term in the ADAM optimzater\n",
    "max_epochs = 60\n",
    "start_epochs = 30      # number of epochs where learning rate is constant\n",
    "decay_epochs = max_epochs - start_epochs"
   ]
  },
  {
   "cell_type": "markdown",
   "metadata": {},
   "source": [
    "Run training loop..."
   ]
  },
  {
   "cell_type": "code",
   "execution_count": 6,
   "metadata": {},
   "outputs": [
    {
     "name": "stdout",
     "output_type": "stream",
     "text": [
      "Starting training...\n",
      " #  | Loss / Time  | Accuracy\n",
      "E-1 | loss = 12.72  | train accuracy = 39.24%, learning rate = 0.300e-3\n",
      "E-1 | 7.5 seconds | dev accuracy = 38.81%\n",
      "E-2 | loss = 1.70  | train accuracy = 40.52%, learning rate = 0.300e-3\n",
      "E-2 | 7.7 seconds | dev accuracy = 30.97%\n",
      "E-3 | loss = 1.12  | train accuracy = 45.45%, learning rate = 0.300e-3\n",
      "E-3 | 7.9 seconds | dev accuracy = 21.27%\n",
      "E-4 | loss = 1.07  | train accuracy = 45.69%, learning rate = 0.300e-3\n",
      "E-4 | 6.6 seconds | dev accuracy = 60.07%\n",
      "E-5 | loss = 1.08  | train accuracy = 45.69%, learning rate = 0.300e-3\n",
      "E-5 | 8.0 seconds | dev accuracy = 14.18%\n",
      "E-6 | loss = 1.04  | train accuracy = 45.21%, learning rate = 0.300e-3\n",
      "E-6 | 8.2 seconds | dev accuracy = 61.19%\n",
      "E-7 | loss = 1.02  | train accuracy = 47.30%, learning rate = 0.300e-3\n",
      "E-7 | 6.7 seconds | dev accuracy = 22.01%\n",
      "E-8 | loss = 1.03  | train accuracy = 46.21%, learning rate = 0.300e-3\n",
      "E-8 | 7.7 seconds | dev accuracy = 38.43%\n",
      "E-9 | loss = 0.95  | train accuracy = 48.82%, learning rate = 0.300e-3\n",
      "E-9 | 7.9 seconds | dev accuracy = 34.70%\n",
      "E-10 | loss = 1.01  | train accuracy = 48.44%, learning rate = 0.300e-3\n",
      "E-10 | 7.3 seconds | dev accuracy = 35.82%\n",
      "E-11 | loss = 0.98  | train accuracy = 48.25%, learning rate = 0.300e-3\n",
      "E-11 | 7.9 seconds | dev accuracy = 23.88%\n",
      "E-12 | loss = 0.95  | train accuracy = 47.58%, learning rate = 0.300e-3\n",
      "E-12 | 7.7 seconds | dev accuracy = 41.04%\n",
      "E-13 | loss = 0.96  | train accuracy = 50.52%, learning rate = 0.300e-3\n",
      "E-13 | 7.8 seconds | dev accuracy = 22.39%\n",
      "E-14 | loss = 0.96  | train accuracy = 49.43%, learning rate = 0.300e-3\n",
      "E-14 | 6.7 seconds | dev accuracy = 66.42%\n",
      "E-15 | loss = 0.94  | train accuracy = 51.14%, learning rate = 0.300e-3\n",
      "E-15 | 7.7 seconds | dev accuracy = 26.12%\n",
      "E-16 | loss = 0.93  | train accuracy = 50.66%, learning rate = 0.300e-3\n",
      "E-16 | 7.8 seconds | dev accuracy = 51.87%\n",
      "E-17 | loss = 0.91  | train accuracy = 54.17%, learning rate = 0.300e-3\n",
      "E-17 | 7.1 seconds | dev accuracy = 33.58%\n",
      "E-18 | loss = 0.93  | train accuracy = 48.20%, learning rate = 0.300e-3\n",
      "E-18 | 8.0 seconds | dev accuracy = 44.40%\n",
      "E-19 | loss = 0.90  | train accuracy = 51.00%, learning rate = 0.300e-3\n",
      "E-19 | 7.8 seconds | dev accuracy = 41.79%\n",
      "E-20 | loss = 0.92  | train accuracy = 50.14%, learning rate = 0.300e-3\n",
      "E-20 | 7.7 seconds | dev accuracy = 46.27%\n",
      "E-21 | loss = 0.87  | train accuracy = 52.18%, learning rate = 0.300e-3\n",
      "E-21 | 6.6 seconds | dev accuracy = 55.97%\n",
      "E-22 | loss = 0.89  | train accuracy = 51.61%, learning rate = 0.300e-3\n",
      "E-22 | 7.8 seconds | dev accuracy = 45.90%\n",
      "E-23 | loss = 0.91  | train accuracy = 51.09%, learning rate = 0.300e-3\n",
      "E-23 | 8.1 seconds | dev accuracy = 51.12%\n",
      "E-24 | loss = 0.92  | train accuracy = 52.32%, learning rate = 0.300e-3\n",
      "E-24 | 7.5 seconds | dev accuracy = 35.45%\n",
      "E-25 | loss = 0.93  | train accuracy = 51.33%, learning rate = 0.300e-3\n",
      "E-25 | 8.0 seconds | dev accuracy = 55.22%\n",
      "E-26 | loss = 0.91  | train accuracy = 51.75%, learning rate = 0.300e-3\n",
      "E-26 | 8.1 seconds | dev accuracy = 53.36%\n",
      "E-27 | loss = 0.87  | train accuracy = 53.51%, learning rate = 0.300e-3\n",
      "E-27 | 7.8 seconds | dev accuracy = 40.30%\n",
      "E-28 | loss = 0.88  | train accuracy = 54.31%, learning rate = 0.300e-3\n",
      "E-28 | 6.7 seconds | dev accuracy = 52.61%\n",
      "E-29 | loss = 0.87  | train accuracy = 53.32%, learning rate = 0.300e-3\n",
      "E-29 | 7.8 seconds | dev accuracy = 61.19%\n",
      "E-30 | loss = 0.90  | train accuracy = 52.18%, learning rate = 0.300e-3\n",
      "E-30 | 7.9 seconds | dev accuracy = 70.90%\n",
      "E-31 | loss = 0.86  | train accuracy = 56.49%, learning rate = 0.300e-3\n",
      "E-31 | 6.7 seconds | dev accuracy = 45.52%\n",
      "E-32 | loss = 0.93  | train accuracy = 54.45%, learning rate = 0.299e-3\n",
      "E-32 | 8.0 seconds | dev accuracy = 39.18%\n",
      "E-33 | loss = 1.02  | train accuracy = 53.41%, learning rate = 0.297e-3\n",
      "E-33 | 8.0 seconds | dev accuracy = 42.16%\n",
      "E-34 | loss = 1.00  | train accuracy = 51.28%, learning rate = 0.293e-3\n",
      "E-34 | 8.0 seconds | dev accuracy = 41.42%\n",
      "E-35 | loss = 1.01  | train accuracy = 51.42%, learning rate = 0.287e-3\n",
      "E-35 | 7.4 seconds | dev accuracy = 43.66%\n",
      "E-36 | loss = 0.94  | train accuracy = 53.36%, learning rate = 0.280e-3\n",
      "E-36 | 8.1 seconds | dev accuracy = 41.79%\n",
      "E-37 | loss = 1.00  | train accuracy = 51.75%, learning rate = 0.271e-3\n",
      "E-37 | 8.5 seconds | dev accuracy = 39.18%\n",
      "E-38 | loss = 0.99  | train accuracy = 50.71%, learning rate = 0.261e-3\n",
      "E-38 | 6.6 seconds | dev accuracy = 49.25%\n",
      "E-39 | loss = 0.97  | train accuracy = 52.37%, learning rate = 0.250e-3\n",
      "E-39 | 7.8 seconds | dev accuracy = 40.30%\n",
      "E-40 | loss = 0.97  | train accuracy = 54.74%, learning rate = 0.238e-3\n",
      "E-40 | 8.2 seconds | dev accuracy = 37.69%\n",
      "E-41 | loss = 0.93  | train accuracy = 54.36%, learning rate = 0.225e-3\n",
      "E-41 | 7.7 seconds | dev accuracy = 26.49%\n",
      "E-42 | loss = 0.93  | train accuracy = 55.21%, learning rate = 0.211e-3\n",
      "E-42 | 7.6 seconds | dev accuracy = 58.21%\n",
      "E-43 | loss = 0.92  | train accuracy = 53.55%, learning rate = 0.196e-3\n",
      "E-43 | 7.7 seconds | dev accuracy = 32.09%\n",
      "E-44 | loss = 0.91  | train accuracy = 52.99%, learning rate = 0.181e-3\n",
      "E-44 | 7.7 seconds | dev accuracy = 47.39%\n",
      "E-45 | loss = 0.92  | train accuracy = 54.36%, learning rate = 0.166e-3\n",
      "E-45 | 6.6 seconds | dev accuracy = 30.60%\n",
      "E-46 | loss = 0.87  | train accuracy = 56.02%, learning rate = 0.150e-3\n",
      "E-46 | 7.7 seconds | dev accuracy = 30.22%\n",
      "E-47 | loss = 0.88  | train accuracy = 55.26%, learning rate = 0.134e-3\n",
      "E-47 | 7.8 seconds | dev accuracy = 27.99%\n",
      "E-48 | loss = 0.82  | train accuracy = 56.11%, learning rate = 0.119e-3\n",
      "E-48 | 7.7 seconds | dev accuracy = 27.24%\n",
      "E-49 | loss = 0.82  | train accuracy = 57.30%, learning rate = 0.104e-3\n",
      "E-49 | 7.0 seconds | dev accuracy = 47.76%\n",
      "E-50 | loss = 0.84  | train accuracy = 57.25%, learning rate = 0.089e-3\n",
      "E-50 | 7.7 seconds | dev accuracy = 41.79%\n",
      "E-51 | loss = 0.86  | train accuracy = 56.82%, learning rate = 0.075e-3\n",
      "E-51 | 7.7 seconds | dev accuracy = 27.61%\n",
      "E-52 | loss = 0.84  | train accuracy = 57.01%, learning rate = 0.062e-3\n",
      "E-52 | 7.0 seconds | dev accuracy = 30.22%\n",
      "E-53 | loss = 0.86  | train accuracy = 56.11%, learning rate = 0.050e-3\n",
      "E-53 | 7.9 seconds | dev accuracy = 25.37%\n",
      "E-54 | loss = 0.86  | train accuracy = 56.26%, learning rate = 0.039e-3\n",
      "E-54 | 7.8 seconds | dev accuracy = 31.34%\n",
      "E-55 | loss = 0.83  | train accuracy = 59.72%, learning rate = 0.029e-3\n",
      "E-55 | 7.7 seconds | dev accuracy = 28.73%\n",
      "E-56 | loss = 0.82  | train accuracy = 57.58%, learning rate = 0.020e-3\n",
      "E-56 | 6.8 seconds | dev accuracy = 36.94%\n",
      "E-57 | loss = 0.84  | train accuracy = 57.06%, learning rate = 0.013e-3\n",
      "E-57 | 7.8 seconds | dev accuracy = 29.85%\n",
      "E-58 | loss = 0.82  | train accuracy = 56.07%, learning rate = 0.007e-3\n",
      "E-58 | 7.7 seconds | dev accuracy = 30.60%\n",
      "E-59 | loss = 0.84  | train accuracy = 55.59%, learning rate = 0.003e-3\n",
      "E-59 | 7.1 seconds | dev accuracy = 31.72%\n",
      "E-60 | loss = 0.81  | train accuracy = 57.49%, learning rate = 0.001e-3\n",
      "E-60 | 7.8 seconds | dev accuracy = 32.46%\n"
     ]
    }
   ],
   "source": [
    "# initialize some performance parameters:\n",
    "best_accuracy = 0\n",
    "lr = alpha\n",
    "train_loss_history, train_accuracy_history, dev_accuracy_history, lr_history = [], [], [], []\n",
    "optimizer = optim.Adam(\n",
    "    [\n",
    "        {\"params\": model.classifier.parameters(), \"lr\": lr, \"weight_decay\": weight_decay},\n",
    "    ],\n",
    "    lr=lr/100, weight_decay=0  # global parameters\n",
    ")\n",
    "\n",
    "print('Starting training...')\n",
    "print(' #  | Loss / Time  | Accuracy')\n",
    "for epoch in range(max_epochs):\n",
    "    tic = time.time()\n",
    "    \n",
    "    # update learning rate\n",
    "    if epoch > start_epochs:\n",
    "        lr = 0.5*alpha*(1+math.cos((epoch-start_epochs)*math.pi/decay_epochs))\n",
    "        optimizer = optim.Adam(\n",
    "        [\n",
    "            {\"params\": model.classifier.parameters(), \"lr\": lr, \"weight_decay\": weight_decay},\n",
    "        ],\n",
    "        lr=lr/100, weight_decay=0  # global parameters\n",
    "    )\n",
    "    else:\n",
    "        lr = alpha\n",
    "    lr_history.append(lr)\n",
    "    # train:\n",
    "    model.train()\n",
    "    running_loss = 0.\n",
    "    correct_predictions = 0\n",
    "    for batch, (imgs, labels) in enumerate(train_generator):\n",
    "        imgs, labels = imgs.to(device), labels.to(device)   # bring data onto GPU\n",
    "        \n",
    "        # run model forward to calculate loss and prediction accuracy\n",
    "        scores = model(torch.flip(imgs,[3]))\n",
    "        loss = loss_fcn(scores,labels)\n",
    "        pred_class = scores.argmax(1)\n",
    "        correct_predictions += (pred_class == labels).sum().item()\n",
    "        \n",
    "        # run model forward on augmented images to calculate loss and prediction accuracy\n",
    "        scores = model(imgs)\n",
    "        loss += loss_fcn(scores,labels)\n",
    "        pred_class = scores.argmax(1)\n",
    "        correct_predictions += (pred_class == labels).sum().item()        \n",
    "        \n",
    "        \n",
    "        running_loss += loss*labels.shape[0]\n",
    "        \n",
    "        # perform weight updates\n",
    "        loss.backward()\n",
    "        optimizer.step()\n",
    "        optimizer.zero_grad()\n",
    "    \n",
    "    running_loss /= (2*N_train) # calculate average training loss for epoch\n",
    "    train_accuracy = 100 * correct_predictions/(2*N_train)   # divide by 2 because data was augmented\n",
    "    print('E-%d | loss = %.2f  | train accuracy = %.2f%%, learning rate = %.3fe-3'%(epoch+1, running_loss, train_accuracy, lr*1000))\n",
    "    train_loss_history.append(running_loss)\n",
    "    train_accuracy_history.append(train_accuracy)\n",
    "    \n",
    "    # development:\n",
    "    model.eval()\n",
    "    correct_predictions = 0\n",
    "    for imgs, labels in dev_generator:\n",
    "        imgs, labels = imgs.to(device), labels.to(device)\n",
    "        \n",
    "        # run model to calculate prediction accuracy\n",
    "        scores = model(imgs)\n",
    "        pred_class = scores.argmax(1)\n",
    "        correct_predictions += (pred_class == labels).sum().item()\n",
    "        \n",
    "        # run model on flipped data to calculate prediction accuracy\n",
    "        scores = model(torch.flip(imgs,[3]))\n",
    "        pred_class = scores.argmax(1)\n",
    "        correct_predictions += (pred_class == labels).sum().item() \n",
    "        \n",
    "    dev_accuracy = 100 * correct_predictions/(2*N_dev)\n",
    "    toc = time.time()\n",
    "    print('E-%d | %.1f seconds | dev accuracy = %.2f%%'%(epoch+1,toc-tic,dev_accuracy))\n",
    "    dev_accuracy_history.append(dev_accuracy)\n",
    "    \n",
    "    if dev_accuracy >= best_accuracy:\n",
    "        best_accuracy = dev_accuracy\n",
    "        torch.save(model,'best_model_4_' + model_name)\n",
    "        \n",
    "model = torch.load('best_model_4_' + model_name)\n",
    "model.train_loss_history = train_loss_history\n",
    "model.train_accuracy_history = train_accuracy_history\n",
    "model.dev_accuracy_history = dev_accuracy_history\n",
    "torch.save(model,'best_model_4_' + model_name)"
   ]
  },
  {
   "cell_type": "markdown",
   "metadata": {},
   "source": [
    "#### Plot training"
   ]
  },
  {
   "cell_type": "code",
   "execution_count": 7,
   "metadata": {},
   "outputs": [
    {
     "data": {
      "image/png": "[encoded data removed]",
      "text/plain": [
       "<Figure size 432x288 with 3 Axes>"
      ]
     },
     "metadata": {
      "needs_background": "light"
     },
     "output_type": "display_data"
    }
   ],
   "source": [
    "plt.subplot(3, 1, 1)\n",
    "plt.plot(train_loss_history, 'o')\n",
    "plt.xlabel('iteration')\n",
    "plt.ylabel('loss')\n",
    "\n",
    "plt.subplot(3, 1, 2)\n",
    "plt.plot(train_accuracy_history, '-o')\n",
    "plt.plot(dev_accuracy_history, '-o')\n",
    "plt.legend(['train', 'val'], loc='upper left')\n",
    "plt.xlabel('epoch')\n",
    "plt.ylabel('accuracy')\n",
    "\n",
    "plt.subplot(3, 1, 3)\n",
    "plt.plot(lr_history, 'o')\n",
    "plt.xlabel('iteration')\n",
    "plt.ylabel('learning rate')\n",
    "plt.show()"
   ]
  },
  {
   "cell_type": "markdown",
   "metadata": {},
   "source": [
    "## Test"
   ]
  },
  {
   "cell_type": "code",
   "execution_count": 8,
   "metadata": {},
   "outputs": [
    {
     "name": "stdout",
     "output_type": "stream",
     "text": [
      "Test Set Accuracy = 69.47%\n",
      "\n",
      "Confusion Matrix - rows are correct class, columns are predicted:\n",
      "tensor([[107.,  23.,   0.],\n",
      "        [ 44.,  70.,   0.],\n",
      "        [  8.,   5.,   5.]])\n",
      "0 - no Utility\n",
      "1 - no Veg\n",
      "2 - veg\n"
     ]
    }
   ],
   "source": [
    "model = torch.load('best_model_4_' + model_name)\n",
    "model.eval()\n",
    "\n",
    "confusionMatrix = torch.zeros(3,3)\n",
    "\n",
    "# test:\n",
    "correct_predictions = 0\n",
    "for imgs, labels in test_generator:\n",
    "    imgs, labels = imgs.to(device), labels.to(device)\n",
    "    \n",
    "    # augment data with by flipping horizontally\n",
    "    imgs = torch.cat((imgs, torch.flip(imgs,[3])), 0)\n",
    "    labels = torch.cat((labels, labels), 0)\n",
    "    \n",
    "    # run model to calculate prediction accuracy\n",
    "    scores = model(imgs)\n",
    "    pred_class = scores.argmax(1)\n",
    "    correct_predictions += (pred_class == labels).sum().item()\n",
    "    \n",
    "    # generate confusion matrix\n",
    "    for i in range(labels.shape[0]):\n",
    "        confusionMatrix[labels[i],pred_class[i]] += 1\n",
    "        #if labels[i] != pred_class[i]:\n",
    "        \n",
    "test_accuracy = 100 * correct_predictions/(2*N_test)\n",
    "print('Test Set Accuracy = %.2f%%'%(test_accuracy))\n",
    "\n",
    "print('\\nConfusion Matrix - rows are correct class, columns are predicted:')\n",
    "print(confusionMatrix)\n",
    "print('0 - no Utility')\n",
    "print('1 - no Veg')\n",
    "print('2 - veg')\n",
    "        "
   ]
  },
  {
   "cell_type": "markdown",
   "metadata": {},
   "source": [
    "### Visualize Network"
   ]
  },
  {
   "cell_type": "code",
   "execution_count": 37,
   "metadata": {},
   "outputs": [
    {
     "name": "stdout",
     "output_type": "stream",
     "text": [
      "(64, 1, 7, 7)\n"
     ]
    },
    {
     "ename": "TypeError",
     "evalue": "Invalid dimensions for image data",
     "output_type": "error",
     "traceback": [
      "\u001b[0;31m---------------------------------------------------------------------------\u001b[0m",
      "\u001b[0;31mTypeError\u001b[0m                                 Traceback (most recent call last)",
      "\u001b[0;32m<ipython-input-37-ac6230bc19f5>\u001b[0m in \u001b[0;36m<module>\u001b[0;34m\u001b[0m\n\u001b[1;32m      4\u001b[0m \u001b[0;34m\u001b[0m\u001b[0m\n\u001b[1;32m      5\u001b[0m \u001b[0mgrid\u001b[0m \u001b[0;34m=\u001b[0m \u001b[0mvisualize_grid\u001b[0m\u001b[0;34m(\u001b[0m\u001b[0mlayer1_weights\u001b[0m\u001b[0;34m[\u001b[0m\u001b[0;34m:\u001b[0m\u001b[0;34m,\u001b[0m\u001b[0;34m:\u001b[0m\u001b[0;36m3\u001b[0m\u001b[0;34m]\u001b[0m\u001b[0;34m.\u001b[0m\u001b[0mtranspose\u001b[0m\u001b[0;34m(\u001b[0m\u001b[0;36m0\u001b[0m\u001b[0;34m,\u001b[0m \u001b[0;36m2\u001b[0m\u001b[0;34m,\u001b[0m \u001b[0;36m3\u001b[0m\u001b[0;34m,\u001b[0m \u001b[0;36m1\u001b[0m\u001b[0;34m)\u001b[0m\u001b[0;34m)\u001b[0m\u001b[0;34m\u001b[0m\u001b[0;34m\u001b[0m\u001b[0m\n\u001b[0;32m----> 6\u001b[0;31m \u001b[0mplt\u001b[0m\u001b[0;34m.\u001b[0m\u001b[0mimshow\u001b[0m\u001b[0;34m(\u001b[0m\u001b[0mgrid\u001b[0m\u001b[0;34m.\u001b[0m\u001b[0mastype\u001b[0m\u001b[0;34m(\u001b[0m\u001b[0;34m'uint8'\u001b[0m\u001b[0;34m)\u001b[0m\u001b[0;34m)\u001b[0m\u001b[0;34m\u001b[0m\u001b[0;34m\u001b[0m\u001b[0m\n\u001b[0m\u001b[1;32m      7\u001b[0m \u001b[0mplt\u001b[0m\u001b[0;34m.\u001b[0m\u001b[0maxis\u001b[0m\u001b[0;34m(\u001b[0m\u001b[0;34m'off'\u001b[0m\u001b[0;34m)\u001b[0m\u001b[0;34m\u001b[0m\u001b[0;34m\u001b[0m\u001b[0m\n\u001b[1;32m      8\u001b[0m \u001b[0mplt\u001b[0m\u001b[0;34m.\u001b[0m\u001b[0mgcf\u001b[0m\u001b[0;34m(\u001b[0m\u001b[0;34m)\u001b[0m\u001b[0;34m.\u001b[0m\u001b[0mset_size_inches\u001b[0m\u001b[0;34m(\u001b[0m\u001b[0;36m8\u001b[0m\u001b[0;34m,\u001b[0m \u001b[0;36m8\u001b[0m\u001b[0;34m)\u001b[0m\u001b[0;34m\u001b[0m\u001b[0;34m\u001b[0m\u001b[0m\n",
      "\u001b[0;32m/opt/anaconda3/lib/python3.7/site-packages/matplotlib/pyplot.py\u001b[0m in \u001b[0;36mimshow\u001b[0;34m(X, cmap, norm, aspect, interpolation, alpha, vmin, vmax, origin, extent, shape, filternorm, filterrad, imlim, resample, url, data, **kwargs)\u001b[0m\n\u001b[1;32m   2697\u001b[0m         \u001b[0mfilternorm\u001b[0m\u001b[0;34m=\u001b[0m\u001b[0mfilternorm\u001b[0m\u001b[0;34m,\u001b[0m \u001b[0mfilterrad\u001b[0m\u001b[0;34m=\u001b[0m\u001b[0mfilterrad\u001b[0m\u001b[0;34m,\u001b[0m \u001b[0mimlim\u001b[0m\u001b[0;34m=\u001b[0m\u001b[0mimlim\u001b[0m\u001b[0;34m,\u001b[0m\u001b[0;34m\u001b[0m\u001b[0;34m\u001b[0m\u001b[0m\n\u001b[1;32m   2698\u001b[0m         resample=resample, url=url, **({\"data\": data} if data is not\n\u001b[0;32m-> 2699\u001b[0;31m         None else {}), **kwargs)\n\u001b[0m\u001b[1;32m   2700\u001b[0m     \u001b[0msci\u001b[0m\u001b[0;34m(\u001b[0m\u001b[0m__ret\u001b[0m\u001b[0;34m)\u001b[0m\u001b[0;34m\u001b[0m\u001b[0;34m\u001b[0m\u001b[0m\n\u001b[1;32m   2701\u001b[0m     \u001b[0;32mreturn\u001b[0m \u001b[0m__ret\u001b[0m\u001b[0;34m\u001b[0m\u001b[0;34m\u001b[0m\u001b[0m\n",
      "\u001b[0;32m/opt/anaconda3/lib/python3.7/site-packages/matplotlib/__init__.py\u001b[0m in \u001b[0;36minner\u001b[0;34m(ax, data, *args, **kwargs)\u001b[0m\n\u001b[1;32m   1808\u001b[0m                         \u001b[0;34m\"the Matplotlib list!)\"\u001b[0m \u001b[0;34m%\u001b[0m \u001b[0;34m(\u001b[0m\u001b[0mlabel_namer\u001b[0m\u001b[0;34m,\u001b[0m \u001b[0mfunc\u001b[0m\u001b[0;34m.\u001b[0m\u001b[0m__name__\u001b[0m\u001b[0;34m)\u001b[0m\u001b[0;34m,\u001b[0m\u001b[0;34m\u001b[0m\u001b[0;34m\u001b[0m\u001b[0m\n\u001b[1;32m   1809\u001b[0m                         RuntimeWarning, stacklevel=2)\n\u001b[0;32m-> 1810\u001b[0;31m             \u001b[0;32mreturn\u001b[0m \u001b[0mfunc\u001b[0m\u001b[0;34m(\u001b[0m\u001b[0max\u001b[0m\u001b[0;34m,\u001b[0m \u001b[0;34m*\u001b[0m\u001b[0margs\u001b[0m\u001b[0;34m,\u001b[0m \u001b[0;34m**\u001b[0m\u001b[0mkwargs\u001b[0m\u001b[0;34m)\u001b[0m\u001b[0;34m\u001b[0m\u001b[0;34m\u001b[0m\u001b[0m\n\u001b[0m\u001b[1;32m   1811\u001b[0m \u001b[0;34m\u001b[0m\u001b[0m\n\u001b[1;32m   1812\u001b[0m         inner.__doc__ = _add_data_doc(inner.__doc__,\n",
      "\u001b[0;32m/opt/anaconda3/lib/python3.7/site-packages/matplotlib/axes/_axes.py\u001b[0m in \u001b[0;36mimshow\u001b[0;34m(self, X, cmap, norm, aspect, interpolation, alpha, vmin, vmax, origin, extent, shape, filternorm, filterrad, imlim, resample, url, **kwargs)\u001b[0m\n\u001b[1;32m   5492\u001b[0m                               resample=resample, **kwargs)\n\u001b[1;32m   5493\u001b[0m \u001b[0;34m\u001b[0m\u001b[0m\n\u001b[0;32m-> 5494\u001b[0;31m         \u001b[0mim\u001b[0m\u001b[0;34m.\u001b[0m\u001b[0mset_data\u001b[0m\u001b[0;34m(\u001b[0m\u001b[0mX\u001b[0m\u001b[0;34m)\u001b[0m\u001b[0;34m\u001b[0m\u001b[0;34m\u001b[0m\u001b[0m\n\u001b[0m\u001b[1;32m   5495\u001b[0m         \u001b[0mim\u001b[0m\u001b[0;34m.\u001b[0m\u001b[0mset_alpha\u001b[0m\u001b[0;34m(\u001b[0m\u001b[0malpha\u001b[0m\u001b[0;34m)\u001b[0m\u001b[0;34m\u001b[0m\u001b[0;34m\u001b[0m\u001b[0m\n\u001b[1;32m   5496\u001b[0m         \u001b[0;32mif\u001b[0m \u001b[0mim\u001b[0m\u001b[0;34m.\u001b[0m\u001b[0mget_clip_path\u001b[0m\u001b[0;34m(\u001b[0m\u001b[0;34m)\u001b[0m \u001b[0;32mis\u001b[0m \u001b[0;32mNone\u001b[0m\u001b[0;34m:\u001b[0m\u001b[0;34m\u001b[0m\u001b[0;34m\u001b[0m\u001b[0m\n",
      "\u001b[0;32m/opt/anaconda3/lib/python3.7/site-packages/matplotlib/image.py\u001b[0m in \u001b[0;36mset_data\u001b[0;34m(self, A)\u001b[0m\n\u001b[1;32m    636\u001b[0m         if not (self._A.ndim == 2\n\u001b[1;32m    637\u001b[0m                 or self._A.ndim == 3 and self._A.shape[-1] in [3, 4]):\n\u001b[0;32m--> 638\u001b[0;31m             \u001b[0;32mraise\u001b[0m \u001b[0mTypeError\u001b[0m\u001b[0;34m(\u001b[0m\u001b[0;34m\"Invalid dimensions for image data\"\u001b[0m\u001b[0;34m)\u001b[0m\u001b[0;34m\u001b[0m\u001b[0;34m\u001b[0m\u001b[0m\n\u001b[0m\u001b[1;32m    639\u001b[0m \u001b[0;34m\u001b[0m\u001b[0m\n\u001b[1;32m    640\u001b[0m         \u001b[0;32mif\u001b[0m \u001b[0mself\u001b[0m\u001b[0;34m.\u001b[0m\u001b[0m_A\u001b[0m\u001b[0;34m.\u001b[0m\u001b[0mndim\u001b[0m \u001b[0;34m==\u001b[0m \u001b[0;36m3\u001b[0m\u001b[0;34m:\u001b[0m\u001b[0;34m\u001b[0m\u001b[0;34m\u001b[0m\u001b[0m\n",
      "\u001b[0;31mTypeError\u001b[0m: Invalid dimensions for image data"
     ]
    },
    {
     "data": {
      "image/png": "[encoded data removed]",
      "text/plain": [
       "<Figure size 432x288 with 1 Axes>"
      ]
     },
     "metadata": {
      "needs_background": "light"
     },
     "output_type": "display_data"
    }
   ],
   "source": [
    "layer1_name = list(model.state_dict().keys())[0]\n",
    "layer1_weights = model.state_dict()[layer1_name].cpu().numpy()\n",
    "print(layer1_weights.shape)\n",
    "\n",
    "grid = visualize_grid(layer1_weights[:,:3].transpose(0, 2, 3, 1))\n",
    "plt.imshow(grid.astype('uint8'))\n",
    "plt.axis('off')\n",
    "plt.gcf().set_size_inches(8, 8)\n",
    "plt.show()"
   ]
  },
  {
   "cell_type": "code",
   "execution_count": null,
   "metadata": {},
   "outputs": [],
   "source": [
    "model."
   ]
  }
 ],
 "metadata": {
  "kernelspec": {
   "display_name": "Python 3",
   "language": "python",
   "name": "python3"
  },
  "language_info": {
   "codemirror_mode": {
    "name": "ipython",
    "version": 3
   },
   "file_extension": ".py",
   "mimetype": "text/x-python",
   "name": "python",
   "nbconvert_exporter": "python",
   "pygments_lexer": "ipython3",
   "version": "3.7.3"
  }
 },
 "nbformat": 4,
 "nbformat_minor": 2
}
