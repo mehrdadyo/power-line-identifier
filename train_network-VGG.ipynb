{
 "cells": [
  {
   "cell_type": "markdown",
   "metadata": {},
   "source": [
    "### Initialization"
   ]
  },
  {
   "cell_type": "code",
   "execution_count": 1,
   "metadata": {},
   "outputs": [],
   "source": [
    "import torch\n",
    "import torch.nn as nn\n",
    "import torch.optim as optim\n",
    "from torch.utils.data import DataLoader\n",
    "\n",
    "import torchvision.models as models\n",
    "import pandas as pd\n",
    "import numpy as np\n",
    "import random, time, os, math\n",
    "\n",
    "from useful_things.dataloader import *\n",
    "from useful_things.networks import *\n",
    "from useful_things.helper_functions import *\n",
    "from useful_things.vis_utils import *\n",
    "\n",
    "from transforms.hog import *"
   ]
  },
  {
   "cell_type": "markdown",
   "metadata": {},
   "source": [
    "If you need to resize images..."
   ]
  },
  {
   "cell_type": "code",
   "execution_count": 2,
   "metadata": {},
   "outputs": [],
   "source": [
    "# # Resizes all images in folder to 3x224x224 to use in pytorch pretrained models\n",
    "# resizeImages('images/sorted_data/noUtility/')\n",
    "# resizeImages('images/sorted_data/noVeg/')\n",
    "# resizeImages('images/sorted_data/veg/')"
   ]
  },
  {
   "cell_type": "markdown",
   "metadata": {},
   "source": [
    "### Define model\n",
    "Next we load pretrained models, see https://pytorch.org/docs/stable/torchvision/models.html for a list of pretrained models to choose from. For different networks, print the model first to find out which layer number is the last one and how many nodes it has"
   ]
  },
  {
   "cell_type": "code",
   "execution_count": 3,
   "metadata": {},
   "outputs": [],
   "source": [
    "# CHOOSE MODEL:\n",
    "model_name = 'vgg11_bn'\n",
    "use_Image = True\n",
    "use_HoG = True\n",
    "use_HOUGH = True"
   ]
  },
  {
   "cell_type": "code",
   "execution_count": 4,
   "metadata": {},
   "outputs": [
    {
     "name": "stdout",
     "output_type": "stream",
     "text": [
      "VGG(\n",
      "  (features): Sequential(\n",
      "    (0): Conv2d(5, 64, kernel_size=(3, 3), stride=(1, 1), padding=(1, 1))\n",
      "    (1): BatchNorm2d(64, eps=1e-05, momentum=0.1, affine=True, track_running_stats=True)\n",
      "    (2): ReLU(inplace)\n",
      "    (3): MaxPool2d(kernel_size=2, stride=2, padding=0, dilation=1, ceil_mode=False)\n",
      "    (4): Conv2d(64, 128, kernel_size=(3, 3), stride=(1, 1), padding=(1, 1))\n",
      "    (5): BatchNorm2d(128, eps=1e-05, momentum=0.1, affine=True, track_running_stats=True)\n",
      "    (6): ReLU(inplace)\n",
      "    (7): MaxPool2d(kernel_size=2, stride=2, padding=0, dilation=1, ceil_mode=False)\n",
      "    (8): Conv2d(128, 256, kernel_size=(3, 3), stride=(1, 1), padding=(1, 1))\n",
      "    (9): BatchNorm2d(256, eps=1e-05, momentum=0.1, affine=True, track_running_stats=True)\n",
      "    (10): ReLU(inplace)\n",
      "    (11): Conv2d(256, 256, kernel_size=(3, 3), stride=(1, 1), padding=(1, 1))\n",
      "    (12): BatchNorm2d(256, eps=1e-05, momentum=0.1, affine=True, track_running_stats=True)\n",
      "    (13): ReLU(inplace)\n",
      "    (14): MaxPool2d(kernel_size=2, stride=2, padding=0, dilation=1, ceil_mode=False)\n",
      "    (15): Conv2d(256, 512, kernel_size=(3, 3), stride=(1, 1), padding=(1, 1))\n",
      "    (16): BatchNorm2d(512, eps=1e-05, momentum=0.1, affine=True, track_running_stats=True)\n",
      "    (17): ReLU(inplace)\n",
      "    (18): Conv2d(512, 512, kernel_size=(3, 3), stride=(1, 1), padding=(1, 1))\n",
      "    (19): BatchNorm2d(512, eps=1e-05, momentum=0.1, affine=True, track_running_stats=True)\n",
      "    (20): ReLU(inplace)\n",
      "    (21): MaxPool2d(kernel_size=2, stride=2, padding=0, dilation=1, ceil_mode=False)\n",
      "    (22): Conv2d(512, 512, kernel_size=(3, 3), stride=(1, 1), padding=(1, 1))\n",
      "    (23): BatchNorm2d(512, eps=1e-05, momentum=0.1, affine=True, track_running_stats=True)\n",
      "    (24): ReLU(inplace)\n",
      "    (25): Conv2d(512, 512, kernel_size=(3, 3), stride=(1, 1), padding=(1, 1))\n",
      "    (26): BatchNorm2d(512, eps=1e-05, momentum=0.1, affine=True, track_running_stats=True)\n",
      "    (27): ReLU(inplace)\n",
      "    (28): MaxPool2d(kernel_size=2, stride=2, padding=0, dilation=1, ceil_mode=False)\n",
      "  )\n",
      "  (avgpool): AdaptiveAvgPool2d(output_size=(7, 7))\n",
      "  (classifier): Sequential(\n",
      "    (0): Linear(in_features=25088, out_features=4096, bias=True)\n",
      "    (1): ReLU(inplace)\n",
      "    (2): Dropout(p=0.7)\n",
      "    (3): Linear(in_features=4096, out_features=4096, bias=True)\n",
      "    (4): ReLU(inplace)\n",
      "    (5): Dropout(p=0.7)\n",
      "    (6): Linear(in_features=4096, out_features=3, bias=True)\n",
      "  )\n",
      ")\n"
     ]
    }
   ],
   "source": [
    "# DON'T CHANGE:\n",
    "def freeze_gradients(model):\n",
    "    'freezes gradients of all parameters in model'\n",
    "    for param in model.parameters():\n",
    "        param.requires_grad = False\n",
    "    return model\n",
    "\n",
    "if model_name == 'resnet18':\n",
    "    model = models.resnet18(pretrained=True)\n",
    "    model = freeze_gradients(model)\n",
    "    model.fc = nn.Linear(512,3, bias=True)\n",
    "    \n",
    "elif model_name == 'vgg11_bn':\n",
    "    model = models.vgg11_bn(pretrained=True)\n",
    "    model = freeze_gradients(model)\n",
    "    model.classifier[0] = nn.Linear(25088, 4096, bias=True)  # initializes requires_grad = True\n",
    "    model.classifier[2] = nn.Dropout(p=0.7)\n",
    "    model.classifier[3] = nn.Linear(4096, 4096, bias=True)  # initializes requires_grad = True\n",
    "    model.classifier[5] = nn.Dropout(p=0.7)\n",
    "    model.classifier[6] = nn.Linear(4096,3, bias=True)  # initializes requires_grad = True\n",
    "    \n",
    "elif model_name == 'alexnet':\n",
    "    model = models.alexnet(pretrained=True)\n",
    "    model = freeze_gradients(model)\n",
    "    model.classifier[6] = nn.Linear(4096,3, bias=True)\n",
    "\n",
    "if use_HoG:\n",
    "    model = addWeightsToLayer1(model, model_name)\n",
    "    \n",
    "if use_HOUGH:\n",
    "    model = addWeightsToLayer1(model, model_name)\n",
    "    \n",
    "if not use_Image:\n",
    "    model = removeImageWeights(model, model_name)\n",
    "\n",
    "print(model)"
   ]
  },
  {
   "cell_type": "markdown",
   "metadata": {},
   "source": [
    "### Set up data\n",
    "Note only the first and last layers of the model now will be trained - all other layers are frozen. This next cell creates the data loaders for the train, dev, and test sets. Only thing to tweak here is batch size. Other than that, leave alone. Since we don't want to do the HoG/HOUGH transform at every instance during training, we will save the training set transforms to be loading by our dataloader."
   ]
  },
  {
   "cell_type": "code",
   "execution_count": 5,
   "metadata": {},
   "outputs": [
    {
     "name": "stdout",
     "output_type": "stream",
     "text": [
      "Making train set with 1055 images\n",
      "Making dev set with 134 images\n",
      "Making test set with 131 images\n"
     ]
    }
   ],
   "source": [
    "N = {}\n",
    "N['noUtil'] = len(os.listdir('images/sorted_data/noUtility/'))\n",
    "N['noVeg'] = len(os.listdir('images/sorted_data/noVeg/'))\n",
    "N['Veg'] = len(os.listdir('images/sorted_data/veg/'))\n",
    "\n",
    "random.seed(2)\n",
    "partition = partitionDataset(N, ratio=(80, 10, 10))\n",
    "\n",
    "performTransforms = False  # only run once\n",
    "print('Making train set with %d images'%len(partition['train']))\n",
    "train_set = UtilityDataset(partition['train'], use_Image, use_HoG, use_HOUGH, 'train', performTransforms=performTransforms)\n",
    "\n",
    "print('Making dev set with %d images'%len(partition['dev']))\n",
    "dev_set = UtilityDataset(partition['dev'], use_Image, use_HoG, use_HOUGH, 'dev', performTransforms=performTransforms)\n",
    "\n",
    "print('Making test set with %d images'%len(partition['test']))\n",
    "test_set = UtilityDataset(partition['test'], use_Image, use_HoG, use_HOUGH, 'test', performTransforms=performTransforms)\n",
    "\n",
    "N_train = len(train_set)\n",
    "N_dev = len(dev_set)\n",
    "N_test = len(test_set)\n",
    "\n",
    "params = {'batch_size': 32,\n",
    "         'shuffle': True,\n",
    "         'num_workers': 4}\n",
    "\n",
    "train_generator = DataLoader(train_set, **params)\n",
    "dev_generator = DataLoader(dev_set, **params)\n",
    "test_generator = DataLoader(test_set, **params)"
   ]
  },
  {
   "cell_type": "markdown",
   "metadata": {},
   "source": [
    "## Train\n",
    "Some fixed model parameters (CUDA takes like ~30 seconds on first run)..."
   ]
  },
  {
   "cell_type": "code",
   "execution_count": 6,
   "metadata": {},
   "outputs": [
    {
     "name": "stdout",
     "output_type": "stream",
     "text": [
      "cuda succesful\n"
     ]
    }
   ],
   "source": [
    "# define loss function - the weights parameters offsets imbalance in number if images of each class\n",
    "class_weights = [1.0, N['noUtil']/N['noVeg'], N['noUtil']/N['Veg']]\n",
    "class_weights = torch.FloatTensor(class_weights).cuda()\n",
    "loss_fcn = nn.CrossEntropyLoss(weight=class_weights)\n",
    "\n",
    "use_cuda = torch.cuda.is_available()\n",
    "device = torch.device(\"cuda:0\" if use_cuda else \"cpu\")\n",
    "model.cuda()\n",
    "print('cuda succesful' if use_cuda else 'cpu')"
   ]
  },
  {
   "cell_type": "markdown",
   "metadata": {},
   "source": [
    "Tunable parameters..."
   ]
  },
  {
   "cell_type": "code",
   "execution_count": 7,
   "metadata": {},
   "outputs": [],
   "source": [
    "alpha = 1e-4           # this is the initial learning rate\n",
    "weight_decay = 1e-3    # this is the regularization term in the ADAM optimzater\n",
    "max_epochs = 11\n",
    "start_epochs = 5      # number of epochs where learning rate is constant\n",
    "decay_epochs = max_epochs - start_epochs"
   ]
  },
  {
   "cell_type": "markdown",
   "metadata": {},
   "source": [
    "Run training loop..."
   ]
  },
  {
   "cell_type": "code",
   "execution_count": 8,
   "metadata": {
    "scrolled": false
   },
   "outputs": [
    {
     "name": "stdout",
     "output_type": "stream",
     "text": [
      "Starting training...\n",
      " #  | Loss / Time  | Accuracy\n",
      "E-1 | loss = 0.99  | train accuracy = 54.08%\n",
      "E-1 | 47.1 seconds | dev accuracy = 66.42%\n",
      "E-2 | loss = 0.63  | train accuracy = 70.09%\n",
      "E-2 | 44.4 seconds | dev accuracy = 71.27%\n",
      "E-3 | loss = 0.53  | train accuracy = 75.17%\n",
      "E-3 | 42.3 seconds | dev accuracy = 75.75%\n",
      "E-4 | loss = 0.41  | train accuracy = 81.85%\n",
      "E-4 | 43.5 seconds | dev accuracy = 76.49%\n",
      "E-5 | loss = 0.24  | train accuracy = 88.53%\n",
      "E-5 | 43.0 seconds | dev accuracy = 78.73%\n",
      "E-6 | loss = 0.18  | train accuracy = 92.13%\n",
      "E-6 | 42.6 seconds | dev accuracy = 79.85%\n",
      "E-7 | loss = 0.16  | train accuracy = 92.56%\n",
      "E-7 | 42.1 seconds | dev accuracy = 80.22%\n",
      "E-8 | loss = 0.13  | train accuracy = 94.69%\n",
      "E-8 | 42.9 seconds | dev accuracy = 78.73%\n",
      "E-9 | loss = 0.08  | train accuracy = 96.64%\n",
      "E-9 | 40.7 seconds | dev accuracy = 81.72%\n",
      "E-10 | loss = 0.04  | train accuracy = 98.20%\n",
      "E-10 | 43.1 seconds | dev accuracy = 79.85%\n",
      "E-11 | loss = 0.04  | train accuracy = 98.39%\n",
      "E-11 | 40.8 seconds | dev accuracy = 79.48%\n",
      "Best dev acc:  81.71641791044776\n"
     ]
    }
   ],
   "source": [
    "# initialize some performance parameters:\n",
    "best_accuracy = 0\n",
    "train_loss_history, train_accuracy_history, dev_accuracy_history, lr_history = [], [], [], []\n",
    "\n",
    "print('Starting training...')\n",
    "print(' #  | Loss / Time  | Accuracy')\n",
    "\n",
    "optimizer = optim.Adam(model.parameters(), lr=alpha, weight_decay=weight_decay)\n",
    "for epoch in range(max_epochs):\n",
    "    tic = time.time()\n",
    "    \n",
    "    if epoch > start_epochs:\n",
    "        # update learning rate\n",
    "        lr = 0.5*alpha*(1+math.cos((epoch-start_epochs)*math.pi/decay_epochs))\n",
    "        optimizer = optim.Adam(model.parameters(), lr=lr, weight_decay=weight_decay)\n",
    "    else:\n",
    "        lr = alpha\n",
    "    lr_history.append(lr)\n",
    "\n",
    "    # train:\n",
    "    model.train()\n",
    "    running_loss = 0.\n",
    "    correct_predictions = 0\n",
    "    for batch, (imgs, labels) in enumerate(train_generator):\n",
    "        imgs, labels = imgs.to(device), labels.to(device)   # bring data onto GPU\n",
    "        \n",
    "        # run model forward for unflipped to calculate loss and prediction accuracy\n",
    "        scores = model(imgs)\n",
    "        loss = loss_fcn(scores,labels)\n",
    "        pred_class = scores.argmax(1)\n",
    "        correct_predictions += (pred_class == labels).sum().item()\n",
    "\n",
    "        # run model forward with flipped imgs\n",
    "        scores = model(torch.flip(imgs,[3]))\n",
    "        loss += loss_fcn(scores,labels)\n",
    "        pred_class = scores.argmax(1)\n",
    "        correct_predictions += (pred_class == labels).sum().item()\n",
    "        \n",
    "        running_loss += loss*labels.shape[0]\n",
    "        \n",
    "        # perform weight updates\n",
    "        loss.backward()\n",
    "        optimizer.step()\n",
    "        optimizer.zero_grad()\n",
    "    \n",
    "    running_loss /= (2*N_train) # calculate average training loss for epoch\n",
    "    train_accuracy = 100 * correct_predictions/(2*N_train)   # divide by 2 because data was augmented\n",
    "    print('E-%d | loss = %.2f  | train accuracy = %.2f%%'%(epoch+1, running_loss, train_accuracy))\n",
    "    train_loss_history.append(running_loss)\n",
    "    train_accuracy_history.append(train_accuracy)\n",
    "    \n",
    "    # development:\n",
    "    model.eval()\n",
    "    correct_predictions = 0\n",
    "    for imgs, labels in dev_generator:\n",
    "        imgs, labels = imgs.to(device), labels.to(device)\n",
    "        \n",
    "        # run model to calculate prediction accuracy\n",
    "        scores = model(imgs)\n",
    "        pred_class = scores.argmax(1)\n",
    "        correct_predictions += (pred_class == labels).sum().item()\n",
    "\n",
    "        # run model on flipped data to calculate prediction accuracy\n",
    "        scores = model(torch.flip(imgs,[3]))\n",
    "        pred_class = scores.argmax(1)\n",
    "        correct_predictions += (pred_class == labels).sum().item()\n",
    "\n",
    "    dev_accuracy = 100 * correct_predictions/(2 * N_dev)\n",
    "    toc = time.time()\n",
    "    print('E-%d | %.1f seconds | dev accuracy = %.2f%%'%(epoch+1,toc-tic,dev_accuracy))\n",
    "    dev_accuracy_history.append(dev_accuracy)\n",
    "    \n",
    "    if dev_accuracy >= best_accuracy:\n",
    "        best_accuracy = dev_accuracy\n",
    "        torch.save(model,'best_model_' + model_name)\n",
    "\n",
    "print('Best dev acc: ', best_accuracy)"
   ]
  },
  {
   "cell_type": "code",
   "execution_count": 9,
   "metadata": {},
   "outputs": [],
   "source": [
    "# pd.read_csv('vgg_train_accuracy_history.csv').values.max()"
   ]
  },
  {
   "cell_type": "code",
   "execution_count": 10,
   "metadata": {},
   "outputs": [],
   "source": [
    "# pd.read_csv('vgg_dev_accuracy_history.csv').values.max()"
   ]
  },
  {
   "cell_type": "markdown",
   "metadata": {},
   "source": [
    "#### Plot training"
   ]
  },
  {
   "cell_type": "code",
   "execution_count": 16,
   "metadata": {},
   "outputs": [],
   "source": [
    "np.savetxt('vgg11_lr-1e-4_drop7_80+_train_loss_history.csv', np.array(train_loss_history), delimiter=',')\n",
    "np.savetxt('vgg11_lr-1e-4_drop7_80+_train_accuracy_history.csv', np.array(train_accuracy_history), delimiter=',')\n",
    "np.savetxt('vgg11_lr-1e-4_drop7_80+_dev_accuracy_history.csv', np.array(dev_accuracy_history), delimiter=',')"
   ]
  },
  {
   "cell_type": "code",
   "execution_count": 12,
   "metadata": {},
   "outputs": [
    {
     "data": {
      "image/png": "[encoded data removed]",
      "text/plain": [
       "<Figure size 720x576 with 3 Axes>"
      ]
     },
     "metadata": {
      "needs_background": "light"
     },
     "output_type": "display_data"
    }
   ],
   "source": [
    "fig = plt.figure(figsize=(10, 8))\n",
    "plt.subplot(3, 1, 1)\n",
    "plt.plot(train_loss_history, 'o')\n",
    "plt.xlabel('iteration')\n",
    "plt.ylabel('loss')\n",
    "\n",
    "plt.subplot(3, 1, 2)\n",
    "plt.plot(train_accuracy_history, '-o')\n",
    "plt.plot(dev_accuracy_history, '-o')\n",
    "plt.legend(['train', 'val'], loc='upper left')\n",
    "plt.xlabel('epoch')\n",
    "plt.ylabel('accuracy')\n",
    "\n",
    "plt.subplot(3, 1, 3)\n",
    "plt.plot(lr_history, 'o')\n",
    "plt.xlabel('iteration')\n",
    "plt.ylabel('learning rate')\n",
    "\n",
    "plt.tight_layout()\n",
    "plt.show()"
   ]
  },
  {
   "cell_type": "markdown",
   "metadata": {},
   "source": [
    "## Test"
   ]
  },
  {
   "cell_type": "code",
   "execution_count": 13,
   "metadata": {},
   "outputs": [
    {
     "name": "stdout",
     "output_type": "stream",
     "text": [
      "Test Set Accuracy = 80.15%\n",
      "\n",
      "Confusion Matrix - rows are correct class, columns are predicted:\n",
      "tensor([[114.,  12.,   4.],\n",
      "        [ 26.,  84.,   4.],\n",
      "        [  5.,   1.,  12.]])\n",
      "0 - no Utility\n",
      "1 - no Veg\n",
      "2 - veg\n"
     ]
    }
   ],
   "source": [
    "model_name = 'vgg11_bn'\n",
    "# model_name = 'vgg16_bn_broke'\n",
    "# model_name = 'vgg16_bn_V2'\n",
    "# model_name = 'vgg11_bn'\n",
    "# model_name = 'vgg11_bn_drop5'\n",
    "\n",
    "model = torch.load('best_model_' + model_name)\n",
    "model.eval()\n",
    "\n",
    "confusionMatrix = torch.zeros(3,3)\n",
    "\n",
    "# test:\n",
    "correct_predictions = 0\n",
    "for imgs, labels in test_generator:\n",
    "    imgs, labels = imgs.to(device), labels.to(device)\n",
    "    \n",
    "    # run model to calculate prediction accuracy\n",
    "    scores = model(imgs)\n",
    "    pred_class = scores.argmax(1)\n",
    "    correct_predictions += (pred_class == labels).sum().item()\n",
    "   \n",
    "    # start confusion matrix\n",
    "    for i in range(labels.shape[0]):\n",
    "        confusionMatrix[labels[i],pred_class[i]] += 1\n",
    "\n",
    "    # run model on flipped data to calculate prediction accuracy\n",
    "    scores = model(torch.flip(imgs,[3]))\n",
    "    pred_class = scores.argmax(1)\n",
    "    correct_predictions += (pred_class == labels).sum().item()\n",
    "    \n",
    "    # finish confusion matrix\n",
    "    for i in range(labels.shape[0]):\n",
    "        confusionMatrix[labels[i],pred_class[i]] += 1\n",
    "\n",
    "        test_accuracy = 100 * correct_predictions/(2 * N_test)\n",
    "print('Test Set Accuracy = %.2f%%'%(test_accuracy))\n",
    "\n",
    "print('\\nConfusion Matrix - rows are correct class, columns are predicted:')\n",
    "print(confusionMatrix)\n",
    "print('0 - no Utility')\n",
    "print('1 - no Veg')\n",
    "print('2 - veg')"
   ]
  },
  {
   "cell_type": "markdown",
   "metadata": {},
   "source": [
    "### Visualize Network"
   ]
  },
  {
   "cell_type": "code",
   "execution_count": 15,
   "metadata": {},
   "outputs": [
    {
     "name": "stdout",
     "output_type": "stream",
     "text": [
      "(64, 5, 3, 3)\n"
     ]
    },
    {
     "data": {
      "image/png": "[encoded data removed]",
      "text/plain": [
       "<Figure size 576x576 with 1 Axes>"
      ]
     },
     "metadata": {
      "needs_background": "light"
     },
     "output_type": "display_data"
    }
   ],
   "source": [
    "layer1_name = list(model.state_dict().keys())[0]\n",
    "layer1_weights = model.state_dict()[layer1_name].cpu().numpy()\n",
    "print(layer1_weights.shape)\n",
    "\n",
    "grid = visualize_grid(layer1_weights[:,:3].transpose(0, 2, 3, 1))\n",
    "plt.imshow(grid.astype('uint8'))\n",
    "plt.axis('off')\n",
    "plt.gcf().set_size_inches(8, 8)\n",
    "plt.show()"
   ]
  },
  {
   "cell_type": "code",
   "execution_count": null,
   "metadata": {},
   "outputs": [],
   "source": []
  }
 ],
 "metadata": {
  "kernelspec": {
   "display_name": "Python 3",
   "language": "python",
   "name": "python3"
  },
  "language_info": {
   "codemirror_mode": {
    "name": "ipython",
    "version": 3
   },
   "file_extension": ".py",
   "mimetype": "text/x-python",
   "name": "python",
   "nbconvert_exporter": "python",
   "pygments_lexer": "ipython3",
   "version": "3.7.1"
  }
 },
 "nbformat": 4,
 "nbformat_minor": 2
}
